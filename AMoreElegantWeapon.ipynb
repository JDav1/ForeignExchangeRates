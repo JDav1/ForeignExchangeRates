{
 "cells": [
  {
   "cell_type": "code",
   "execution_count": 26,
   "metadata": {},
   "outputs": [],
   "source": [
    "import os\n",
    "import ssl\n",
    "import certifi\n",
    "import urllib3 as urllib\n",
    "from urllib.request import urlopen\n",
    "import json\n",
    "from datetime import datetime\n",
    "import pandas as pd"
   ]
  },
  {
   "cell_type": "code",
   "execution_count": 29,
   "metadata": {},
   "outputs": [],
   "source": [
    "ssl._create_default_https_context = ssl._create_unverified_context\n",
    "# if you are getting an SSL error after running cell 5, it may be necessary to run the above line.\n",
    "#I dont fully udnerstand how SSL stuff works, so try it without first. The error has to do with the urllib library and security stuff."
   ]
  },
  {
   "cell_type": "code",
   "execution_count": 30,
   "metadata": {},
   "outputs": [],
   "source": [
    "def myFunction(forexticker, multiplier, timespan, timefrom, timeto, apikey):\n",
    "    myurl = \"https://api.polygon.io/v2/aggs/ticker/\" + forexticker + \"/range/\" + multiplier + \"/\" + timespan + \"/\" + timefrom + \"/\" + timeto + \"?apiKey=\" + apikey\n",
    "    with urlopen(myurl) as response:\n",
    "        responsebody = response.read()\n",
    "    return json.loads(responsebody)"
   ]
  },
  {
   "cell_type": "code",
   "execution_count": 42,
   "metadata": {},
   "outputs": [],
   "source": [
    "\n",
    "multiplier = \"1\" # the interval of the date range. ie \"1\" week\n",
    "timespan = \"week\" # the interval of the date range. ie 1 \"week\"\n",
    "timefrom = \"2021-05-19\" \n",
    "timeto = \"2022-05-19\"\n",
    "apikey = \"dFPiHNb7JZSCvi61hY_UpPpswbLZapwi\"#get your api key from https://api.polygon.io\n",
    "\n",
    "\n",
    "#create the lists that will populate the pandas table later\n",
    "date, volume, currency = [],[],[]\n"
   ]
  },
  {
   "cell_type": "code",
   "execution_count": 48,
   "metadata": {},
   "outputs": [
    {
     "name": "stdout",
     "output_type": "stream",
     "text": [
      "['05-15-21', '05-22-21', '05-29-21', '06-05-21', '06-12-21', '06-19-21', '06-26-21', '07-03-21', '07-10-21', '07-17-21', '07-24-21', '07-31-21', '08-07-21', '08-14-21', '08-21-21', '08-28-21', '09-04-21', '09-11-21', '09-18-21', '09-25-21', '10-02-21', '10-09-21', '10-16-21', '10-23-21', '10-30-21', '11-06-21', '11-13-21', '11-20-21', '11-27-21', '12-04-21', '12-11-21', '12-18-21', '12-25-21', '01-01-22', '01-08-22', '01-15-22', '01-22-22', '01-29-22', '02-05-22', '02-12-22', '02-19-22', '02-26-22', '03-05-22', '03-12-22', '03-19-22', '03-26-22', '04-02-22', '04-09-22', '04-16-22', '04-23-22', '04-30-22', '05-07-22', '05-14-22', '05-15-21', '05-22-21', '05-29-21', '06-05-21', '06-12-21', '06-19-21', '06-26-21', '07-03-21', '07-10-21', '07-17-21', '07-24-21', '07-31-21', '08-07-21', '08-14-21', '08-21-21', '08-28-21', '09-04-21', '09-11-21', '09-18-21', '09-25-21', '10-02-21', '10-09-21', '10-16-21', '10-23-21', '10-30-21', '11-06-21', '11-13-21', '11-20-21', '11-27-21', '12-04-21', '12-11-21', '12-18-21', '12-25-21', '01-01-22', '01-08-22', '01-15-22', '01-22-22', '01-29-22', '02-05-22', '02-12-22', '02-19-22', '02-26-22', '03-05-22', '03-12-22', '03-19-22', '03-26-22', '04-02-22', '04-09-22', '04-16-22', '04-23-22', '04-30-22', '05-07-22', '05-14-22', '05-15-21', '05-22-21', '05-29-21', '06-05-21', '06-12-21', '06-19-21', '06-26-21', '07-03-21', '07-10-21', '07-17-21', '07-24-21', '07-31-21', '08-07-21', '08-14-21', '08-21-21', '08-28-21', '09-04-21', '09-11-21', '09-18-21', '09-25-21', '10-02-21', '10-09-21', '10-16-21', '10-23-21', '10-30-21', '11-06-21', '11-13-21', '11-20-21', '11-27-21', '12-04-21', '12-11-21', '12-18-21', '12-25-21', '01-01-22', '01-08-22', '01-15-22', '01-22-22', '01-29-22', '02-05-22', '02-12-22', '02-19-22', '02-26-22', '03-05-22', '03-12-22', '03-19-22', '03-26-22', '04-02-22', '04-09-22', '04-16-22', '04-23-22', '04-30-22', '05-07-22', '05-14-22', '05-15-21', '05-22-21', '05-29-21', '06-05-21', '06-12-21', '06-19-21', '06-26-21', '07-03-21', '07-10-21', '07-17-21', '07-24-21', '07-31-21', '08-07-21', '08-14-21', '08-21-21', '08-28-21', '09-04-21', '09-11-21', '09-18-21', '09-25-21', '10-02-21', '10-09-21', '10-16-21', '10-23-21', '10-30-21', '11-06-21', '11-13-21', '11-20-21', '11-27-21', '12-04-21', '12-11-21', '12-18-21', '12-25-21', '01-01-22', '01-08-22', '01-15-22', '01-22-22', '01-29-22', '02-05-22', '02-12-22', '02-19-22', '02-26-22', '03-05-22', '03-12-22', '03-19-22', '03-26-22', '04-02-22', '04-09-22', '04-16-22', '04-23-22', '04-30-22', '05-07-22', '05-14-22', '05-15-21', '05-22-21', '05-29-21', '06-05-21', '06-12-21', '06-19-21', '06-26-21', '07-03-21', '07-10-21', '07-17-21', '07-24-21', '07-31-21', '08-07-21', '08-14-21', '08-21-21', '08-28-21', '09-04-21', '09-11-21', '09-18-21', '09-25-21', '10-02-21', '10-09-21', '10-16-21', '10-23-21', '10-30-21', '11-06-21', '11-13-21', '11-20-21', '11-27-21', '12-04-21', '12-11-21', '12-18-21', '12-25-21', '01-01-22', '01-08-22', '01-15-22', '01-22-22', '01-29-22', '02-05-22', '02-12-22', '02-19-22', '02-26-22', '03-05-22', '03-12-22', '03-19-22', '03-26-22', '04-02-22', '04-09-22', '04-16-22', '04-23-22', '04-30-22', '05-07-22', '05-14-22', '05-15-21', '05-22-21', '05-29-21', '06-05-21', '06-12-21', '06-19-21', '06-26-21', '07-03-21', '07-10-21', '07-17-21', '07-24-21', '07-31-21', '08-07-21', '08-14-21', '08-21-21', '08-28-21', '09-04-21', '09-11-21', '09-18-21', '09-25-21', '10-02-21', '10-09-21', '10-16-21', '10-23-21', '10-30-21', '11-06-21', '11-13-21', '11-20-21', '11-27-21', '12-04-21', '12-11-21', '12-18-21', '12-25-21', '01-01-22', '01-08-22', '01-15-22', '01-22-22', '01-29-22', '02-05-22', '02-12-22', '02-19-22', '02-26-22', '03-05-22', '03-12-22', '03-19-22', '03-26-22', '04-02-22', '04-09-22', '04-16-22', '04-23-22', '04-30-22', '05-07-22', '05-14-22'] [462588, 423706, 415872, 413545, 482741, 470576, 396701, 505858, 427195, 513901, 508304, 469815, 408231, 525990, 471867, 427328, 415128, 376411, 481001, 575252, 578848, 517792, 500640, 574327, 574173, 523234, 591971, 667872, 827464, 482716, 527729, 479677, 384316, 515669, 563961, 597942, 673885, 591342, 600688, 740796, 812809, 806012, 716229, 612639, 684862, 909458, 753826, 830336, 871317, 1003282.0, 909348, 1058903.0, 1016175.0, 17242, 15546, 17298, 16890, 17701, 17984, 15928, 18356, 16715, 18041, 18108, 17582, 16970, 18512, 17298, 17266, 17671, 15434, 18058, 18884, 19228, 18342, 19486, 19488, 19289, 18359, 19653, 18549, 21324, 17060, 17406, 17900, 17474, 18763, 19262, 18989, 19910, 18337, 18206, 19677, 19889, 20102, 19765, 19558, 19711, 20889, 21633, 22324, 23116, 23170, 23034, 23156, 23175, 462588, 423706, 415872, 413545, 482741, 470576, 396701, 505858, 427195, 513901, 508304, 469815, 408231, 525990, 471867, 427328, 415128, 376411, 481001, 575252, 578848, 517792, 500640, 574327, 574173, 523234, 591971, 667872, 827464, 482716, 527729, 479677, 384316, 515669, 563961, 597942, 673885, 591342, 600688, 740796, 812809, 806012, 716229, 612639, 684862, 909458, 753826, 830336, 871317, 1003282.0, 909348, 1058903.0, 1016175.0, 17242, 15546, 17298, 16890, 17701, 17984, 15928, 18356, 16715, 18041, 18108, 17582, 16970, 18512, 17298, 17266, 17671, 15434, 18058, 18884, 19228, 18342, 19486, 19488, 19289, 18359, 19653, 18549, 21324, 17060, 17406, 17900, 17474, 18763, 19262, 18989, 19910, 18337, 18206, 19677, 19889, 20102, 19765, 19558, 19711, 20889, 21633, 22324, 23116, 23170, 23034, 23156, 23175, 291086, 242852, 247631, 232361, 300342, 290292, 250649, 299145, 265139, 301074, 283496, 251761, 226114, 252294, 249342, 242431, 244345, 233799, 278374, 311017, 270446, 231208, 262964, 280240, 291483, 260260, 311493, 332529, 375672, 247865, 287101, 282839, 228704, 301407, 312947, 308746, 351035, 343855, 370868, 410254, 502836, 592794, 648510, 489812, 392054, 428249, 420370, 459610, 420291, 544437, 580328, 609608, 513918, 626225, 525806, 526149, 489013, 635365, 632033, 534675, 631458, 571775, 637846, 593085, 519415, 456593, 517856, 490935, 482255, 516780, 492732, 576467, 655336, 550469, 472433, 449017, 591005, 584579, 527526, 629180, 652630, 744790, 495908, 553221, 505153, 441855, 564039, 592516, 597999, 681813, 649404, 688022, 785090, 916124, 1048176.0, 1123946.0, 886259, 756676, 809384, 785874, 814521, 776561, 925097, 914638, 966994, 862313] ['C:USDJPY', 'C:USDJPY', 'C:USDJPY', 'C:USDJPY', 'C:USDJPY', 'C:USDJPY', 'C:USDJPY', 'C:USDJPY', 'C:USDJPY', 'C:USDJPY', 'C:USDJPY', 'C:USDJPY', 'C:USDJPY', 'C:USDJPY', 'C:USDJPY', 'C:USDJPY', 'C:USDJPY', 'C:USDJPY', 'C:USDJPY', 'C:USDJPY', 'C:USDJPY', 'C:USDJPY', 'C:USDJPY', 'C:USDJPY', 'C:USDJPY', 'C:USDJPY', 'C:USDJPY', 'C:USDJPY', 'C:USDJPY', 'C:USDJPY', 'C:USDJPY', 'C:USDJPY', 'C:USDJPY', 'C:USDJPY', 'C:USDJPY', 'C:USDJPY', 'C:USDJPY', 'C:USDJPY', 'C:USDJPY', 'C:USDJPY', 'C:USDJPY', 'C:USDJPY', 'C:USDJPY', 'C:USDJPY', 'C:USDJPY', 'C:USDJPY', 'C:USDJPY', 'C:USDJPY', 'C:USDJPY', 'C:USDJPY', 'C:USDJPY', 'C:USDJPY', 'C:USDJPY', 'C:JPYUSD', 'C:JPYUSD', 'C:JPYUSD', 'C:JPYUSD', 'C:JPYUSD', 'C:JPYUSD', 'C:JPYUSD', 'C:JPYUSD', 'C:JPYUSD', 'C:JPYUSD', 'C:JPYUSD', 'C:JPYUSD', 'C:JPYUSD', 'C:JPYUSD', 'C:JPYUSD', 'C:JPYUSD', 'C:JPYUSD', 'C:JPYUSD', 'C:JPYUSD', 'C:JPYUSD', 'C:JPYUSD', 'C:JPYUSD', 'C:JPYUSD', 'C:JPYUSD', 'C:JPYUSD', 'C:JPYUSD', 'C:JPYUSD', 'C:JPYUSD', 'C:JPYUSD', 'C:JPYUSD', 'C:JPYUSD', 'C:JPYUSD', 'C:JPYUSD', 'C:JPYUSD', 'C:JPYUSD', 'C:JPYUSD', 'C:JPYUSD', 'C:JPYUSD', 'C:JPYUSD', 'C:JPYUSD', 'C:JPYUSD', 'C:JPYUSD', 'C:JPYUSD', 'C:JPYUSD', 'C:JPYUSD', 'C:JPYUSD', 'C:JPYUSD', 'C:JPYUSD', 'C:JPYUSD', 'C:JPYUSD', 'C:JPYUSD', 'C:JPYUSD', 'C:JPYUSD', 'C:USDJPY', 'C:USDJPY', 'C:USDJPY', 'C:USDJPY', 'C:USDJPY', 'C:USDJPY', 'C:USDJPY', 'C:USDJPY', 'C:USDJPY', 'C:USDJPY', 'C:USDJPY', 'C:USDJPY', 'C:USDJPY', 'C:USDJPY', 'C:USDJPY', 'C:USDJPY', 'C:USDJPY', 'C:USDJPY', 'C:USDJPY', 'C:USDJPY', 'C:USDJPY', 'C:USDJPY', 'C:USDJPY', 'C:USDJPY', 'C:USDJPY', 'C:USDJPY', 'C:USDJPY', 'C:USDJPY', 'C:USDJPY', 'C:USDJPY', 'C:USDJPY', 'C:USDJPY', 'C:USDJPY', 'C:USDJPY', 'C:USDJPY', 'C:USDJPY', 'C:USDJPY', 'C:USDJPY', 'C:USDJPY', 'C:USDJPY', 'C:USDJPY', 'C:USDJPY', 'C:USDJPY', 'C:USDJPY', 'C:USDJPY', 'C:USDJPY', 'C:USDJPY', 'C:USDJPY', 'C:USDJPY', 'C:USDJPY', 'C:USDJPY', 'C:USDJPY', 'C:USDJPY', 'C:JPYUSD', 'C:JPYUSD', 'C:JPYUSD', 'C:JPYUSD', 'C:JPYUSD', 'C:JPYUSD', 'C:JPYUSD', 'C:JPYUSD', 'C:JPYUSD', 'C:JPYUSD', 'C:JPYUSD', 'C:JPYUSD', 'C:JPYUSD', 'C:JPYUSD', 'C:JPYUSD', 'C:JPYUSD', 'C:JPYUSD', 'C:JPYUSD', 'C:JPYUSD', 'C:JPYUSD', 'C:JPYUSD', 'C:JPYUSD', 'C:JPYUSD', 'C:JPYUSD', 'C:JPYUSD', 'C:JPYUSD', 'C:JPYUSD', 'C:JPYUSD', 'C:JPYUSD', 'C:JPYUSD', 'C:JPYUSD', 'C:JPYUSD', 'C:JPYUSD', 'C:JPYUSD', 'C:JPYUSD', 'C:JPYUSD', 'C:JPYUSD', 'C:JPYUSD', 'C:JPYUSD', 'C:JPYUSD', 'C:JPYUSD', 'C:JPYUSD', 'C:JPYUSD', 'C:JPYUSD', 'C:JPYUSD', 'C:JPYUSD', 'C:JPYUSD', 'C:JPYUSD', 'C:JPYUSD', 'C:JPYUSD', 'C:JPYUSD', 'C:JPYUSD', 'C:JPYUSD', 'C:USDEUR', 'C:USDEUR', 'C:USDEUR', 'C:USDEUR', 'C:USDEUR', 'C:USDEUR', 'C:USDEUR', 'C:USDEUR', 'C:USDEUR', 'C:USDEUR', 'C:USDEUR', 'C:USDEUR', 'C:USDEUR', 'C:USDEUR', 'C:USDEUR', 'C:USDEUR', 'C:USDEUR', 'C:USDEUR', 'C:USDEUR', 'C:USDEUR', 'C:USDEUR', 'C:USDEUR', 'C:USDEUR', 'C:USDEUR', 'C:USDEUR', 'C:USDEUR', 'C:USDEUR', 'C:USDEUR', 'C:USDEUR', 'C:USDEUR', 'C:USDEUR', 'C:USDEUR', 'C:USDEUR', 'C:USDEUR', 'C:USDEUR', 'C:USDEUR', 'C:USDEUR', 'C:USDEUR', 'C:USDEUR', 'C:USDEUR', 'C:USDEUR', 'C:USDEUR', 'C:USDEUR', 'C:USDEUR', 'C:USDEUR', 'C:USDEUR', 'C:USDEUR', 'C:USDEUR', 'C:USDEUR', 'C:USDEUR', 'C:USDEUR', 'C:USDEUR', 'C:USDEUR', 'C:EURUSD', 'C:EURUSD', 'C:EURUSD', 'C:EURUSD', 'C:EURUSD', 'C:EURUSD', 'C:EURUSD', 'C:EURUSD', 'C:EURUSD', 'C:EURUSD', 'C:EURUSD', 'C:EURUSD', 'C:EURUSD', 'C:EURUSD', 'C:EURUSD', 'C:EURUSD', 'C:EURUSD', 'C:EURUSD', 'C:EURUSD', 'C:EURUSD', 'C:EURUSD', 'C:EURUSD', 'C:EURUSD', 'C:EURUSD', 'C:EURUSD', 'C:EURUSD', 'C:EURUSD', 'C:EURUSD', 'C:EURUSD', 'C:EURUSD', 'C:EURUSD', 'C:EURUSD', 'C:EURUSD', 'C:EURUSD', 'C:EURUSD', 'C:EURUSD', 'C:EURUSD', 'C:EURUSD', 'C:EURUSD', 'C:EURUSD', 'C:EURUSD', 'C:EURUSD', 'C:EURUSD', 'C:EURUSD', 'C:EURUSD', 'C:EURUSD', 'C:EURUSD', 'C:EURUSD', 'C:EURUSD', 'C:EURUSD', 'C:EURUSD', 'C:EURUSD', 'C:EURUSD']\n"
     ]
    }
   ],
   "source": [
    "# Enter all the currency pairs you want to retrieve from the date range you specified above. Good choices are USDJPY, GBPEUR etc\n",
    "# Be sure to use the requried format \"C:XXXXXX\" where the X's are the three letter currency code.\n",
    "forextickerList = [\"C:USDJPY\", \"C:JPYUSD\", \"C:USDEUR\", \"C:EURUSD\"]\n",
    "\n",
    "for pair in forextickerList:\n",
    "    myjson = myFunction(pair, multiplier, timespan, timefrom, timeto, apikey)\n",
    "      \n",
    "    for i in range(len(myjson[\"results\"])):\n",
    "            #for the length of the list returned by the api, do the loop\n",
    "        t = int((myjson[\"results\"][i]['t'])/1000 )    \n",
    "            #datetime is returned in miliseconds which I kept getting errors when converting to a date. \n",
    "                #so dividing by 1000 and casting to interger puts it in the correct length and format when using datetime.fromtimestamp\n",
    "        date.append(datetime.fromtimestamp(t).strftime(\"%m-%d-%y\"))\n",
    "        volume.append(myjson[\"results\"][i]['v'])\n",
    "        currency.append(myjson[\"ticker\"])\n",
    "#print(date, volume, currency)\n",
    "# ^^ only print this if you want big lists on screen\n",
    "        \n"
   ]
  },
  {
   "cell_type": "code",
   "execution_count": 49,
   "metadata": {},
   "outputs": [
    {
     "name": "stdout",
     "output_type": "stream",
     "text": [
      "         date    volume  currency\n",
      "0    05-15-21  462588.0  C:USDJPY\n",
      "1    05-22-21  423706.0  C:USDJPY\n",
      "2    05-29-21  415872.0  C:USDJPY\n",
      "3    06-05-21  413545.0  C:USDJPY\n",
      "4    06-12-21  482741.0  C:USDJPY\n",
      "..        ...       ...       ...\n",
      "313  04-16-22  776561.0  C:EURUSD\n",
      "314  04-23-22  925097.0  C:EURUSD\n",
      "315  04-30-22  914638.0  C:EURUSD\n",
      "316  05-07-22  966994.0  C:EURUSD\n",
      "317  05-14-22  862313.0  C:EURUSD\n",
      "\n",
      "[318 rows x 3 columns]\n"
     ]
    }
   ],
   "source": [
    "#create the data frame and export to csv\n",
    "myFrame = {\n",
    "    'date': date,\n",
    "    'volume': volume,\n",
    "    'currency': currency\n",
    "}\n",
    "\n",
    "polygonIO = pd.DataFrame(myFrame)\n",
    "print(polygonIO) # get a sneak peak at your data"
   ]
  },
  {
   "cell_type": "code",
   "execution_count": 50,
   "metadata": {},
   "outputs": [],
   "source": [
    "myfilepath = r'C:\\Users\\JDavis\\Documents'\n",
    "polygonIO.to_csv(myfilepath+'\\\\polygondata.csv')"
   ]
  },
  {
   "cell_type": "code",
   "execution_count": null,
   "metadata": {},
   "outputs": [],
   "source": []
  }
 ],
 "metadata": {
  "kernelspec": {
   "display_name": "Python 3 (ipykernel)",
   "language": "python",
   "name": "python3"
  },
  "language_info": {
   "codemirror_mode": {
    "name": "ipython",
    "version": 3
   },
   "file_extension": ".py",
   "mimetype": "text/x-python",
   "name": "python",
   "nbconvert_exporter": "python",
   "pygments_lexer": "ipython3",
   "version": "3.9.12"
  }
 },
 "nbformat": 4,
 "nbformat_minor": 4
}
